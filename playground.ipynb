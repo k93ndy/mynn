{
 "cells": [
  {
   "cell_type": "code",
   "execution_count": 17,
   "metadata": {},
   "outputs": [],
   "source": [
    "import numpy as np\n",
    "from mynn import myNN\n",
    "from sklearn.datasets import make_classification\n",
    "from sklearn.model_selection import train_test_split"
   ]
  },
  {
   "cell_type": "code",
   "execution_count": null,
   "metadata": {},
   "outputs": [],
   "source": [
    "raw = make_classification(n_samples=1000, n_features=4, n_informative=4, n_redundant=0, n_repeated=0, n_classes=5, n_clusters_per_class=1)\n",
    "X_train, X_test, y_train, y_test = train_test_split(raw[0], raw[1], test_size=0.2, random_state=42)\n",
    "\n",
    "nn = myNN(input_dim=4, hidden_dim=5, output_dim=5)\n",
    "\n",
    "print(nn.param)\n",
    "print(nn.accuracy(X_test, y_test))\n",
    "print(nn.loss(X_test, y_test))\n",
    "\n",
    "#nn.train(X_train, y_train, epoch=1000)\n",
    "nn.train_minibatch(X_train, y_train, epoch=100, batch_size=100)\n",
    "print(nn.param)\n",
    "print(nn.accuracy(X_test, y_test))\n",
    "print(nn.loss(X_test, y_test))"
   ]
  },
  {
   "cell_type": "code",
   "execution_count": 18,
   "metadata": {},
   "outputs": [
    {
     "name": "stdout",
     "output_type": "stream",
     "text": [
      "DESCR \n",
      " mldata.org dataset: mnist-original\n",
      "COL_NAMES \n",
      " ['label', 'data']\n",
      "target \n",
      " [ 0.  0.  0. ...,  9.  9.  9.]\n",
      "data \n",
      " [[0 0 0 ..., 0 0 0]\n",
      " [0 0 0 ..., 0 0 0]\n",
      " [0 0 0 ..., 0 0 0]\n",
      " ..., \n",
      " [0 0 0 ..., 0 0 0]\n",
      " [0 0 0 ..., 0 0 0]\n",
      " [0 0 0 ..., 0 0 0]]\n"
     ]
    }
   ],
   "source": [
    "from sklearn.datasets import fetch_mldata\n",
    "mnist = fetch_mldata('MNIST original')\n",
    "\n",
    "for key in mnist:\n",
    "    print(key, \"\\n\", mnist[key])"
   ]
  },
  {
   "cell_type": "code",
   "execution_count": 19,
   "metadata": {},
   "outputs": [
    {
     "name": "stdout",
     "output_type": "stream",
     "text": [
      "{'W1': array([[-0.01059347, -0.00195862,  0.02169168, ...,  0.02145246,\n",
      "         0.03627117,  0.05855416],\n",
      "       [ 0.0233217 , -0.00911656, -0.01079982, ..., -0.03253515,\n",
      "        -0.01972887, -0.02863517],\n",
      "       [ 0.03085804, -0.05449359, -0.0117135 , ..., -0.04095309,\n",
      "         0.00403034, -0.0261324 ],\n",
      "       ..., \n",
      "       [ 0.02064773,  0.04727491,  0.05551626, ..., -0.02971617,\n",
      "        -0.02689846, -0.05091846],\n",
      "       [ 0.0258304 , -0.01124818,  0.0574832 , ..., -0.01352161,\n",
      "        -0.01773191, -0.02524143],\n",
      "       [ 0.0216448 ,  0.04599043,  0.0222328 , ..., -0.00456525,\n",
      "         0.00787032,  0.01589909]]), 'b1': array([[ 0.,  0.,  0.,  0.,  0.,  0.,  0.,  0.,  0.,  0.]]), 'W2': array([[-0.01330676,  0.17726843, -0.18601457,  0.14222078, -0.01367234,\n",
      "        -0.57126093,  0.06587223,  0.13398661,  0.40070933, -0.39185434],\n",
      "       [ 0.33105483, -0.09306431, -0.29301146,  0.23506233,  0.05967617,\n",
      "         0.02348529,  0.3871418 ,  0.61207711, -0.4362039 , -0.12303871],\n",
      "       [ 0.08471902,  0.64138118, -0.02697476, -0.24474053, -0.09358497,\n",
      "         0.09497314, -0.26068598,  0.477338  ,  0.47326957, -0.60978211],\n",
      "       [ 0.71879153,  0.05774892, -0.09699185, -0.11727647,  0.57967156,\n",
      "         0.07863487,  0.14692369, -0.35674547,  0.15600442,  0.25172894],\n",
      "       [-0.40307812, -0.34460685,  0.14310791,  0.06758835,  0.83522248,\n",
      "        -0.3131932 ,  0.17348992,  0.05399855, -0.14899854,  0.31275848],\n",
      "       [ 0.06243559, -0.28751899,  0.0288952 ,  0.3927588 ,  0.22781711,\n",
      "        -0.1967284 ,  0.65355075,  0.11775052, -0.29321147, -0.31644321],\n",
      "       [-0.53406058,  0.22407134, -0.0659422 , -0.16880565,  0.15858742,\n",
      "        -0.1565148 , -0.34672867, -0.05089972,  0.29815203, -0.06094003],\n",
      "       [-0.24386016,  0.24502905, -0.41952023,  0.15719511,  0.30728721,\n",
      "        -0.07358785, -0.14238335, -0.33860987, -0.60617804,  0.33759617],\n",
      "       [-0.21448517,  0.1802855 , -0.51167747,  0.02445007,  0.24228114,\n",
      "        -0.0468681 ,  0.26418041,  0.4303631 , -0.26848625, -0.23599793],\n",
      "       [ 0.11238576,  0.02540723, -0.06507118,  0.18067795, -0.28720291,\n",
      "        -0.18526547, -0.08279798, -0.18877605, -0.0439861 ,  0.19644266]]), 'b2': array([[ 0.,  0.,  0.,  0.,  0.,  0.,  0.,  0.,  0.,  0.]])}\n",
      "0.109\n"
     ]
    },
    {
     "ename": "IndexError",
     "evalue": "arrays used as indices must be of integer (or boolean) type",
     "output_type": "error",
     "traceback": [
      "\u001b[1;31m---------------------------------------------------------------------------\u001b[0m",
      "\u001b[1;31mIndexError\u001b[0m                                Traceback (most recent call last)",
      "\u001b[1;32m<ipython-input-19-b76e940c66c2>\u001b[0m in \u001b[0;36m<module>\u001b[1;34m()\u001b[0m\n\u001b[0;32m      5\u001b[0m \u001b[0mprint\u001b[0m\u001b[1;33m(\u001b[0m\u001b[0mnn\u001b[0m\u001b[1;33m.\u001b[0m\u001b[0mparam\u001b[0m\u001b[1;33m)\u001b[0m\u001b[1;33m\u001b[0m\u001b[0m\n\u001b[0;32m      6\u001b[0m \u001b[0mprint\u001b[0m\u001b[1;33m(\u001b[0m\u001b[0mnn\u001b[0m\u001b[1;33m.\u001b[0m\u001b[0maccuracy\u001b[0m\u001b[1;33m(\u001b[0m\u001b[0mX_test\u001b[0m\u001b[1;33m,\u001b[0m \u001b[0my_test\u001b[0m\u001b[1;33m)\u001b[0m\u001b[1;33m)\u001b[0m\u001b[1;33m\u001b[0m\u001b[0m\n\u001b[1;32m----> 7\u001b[1;33m \u001b[0mprint\u001b[0m\u001b[1;33m(\u001b[0m\u001b[0mnn\u001b[0m\u001b[1;33m.\u001b[0m\u001b[0mloss\u001b[0m\u001b[1;33m(\u001b[0m\u001b[0mX_test\u001b[0m\u001b[1;33m,\u001b[0m \u001b[0my_test\u001b[0m\u001b[1;33m)\u001b[0m\u001b[1;33m)\u001b[0m\u001b[1;33m\u001b[0m\u001b[0m\n\u001b[0m\u001b[0;32m      8\u001b[0m \u001b[1;33m\u001b[0m\u001b[0m\n\u001b[0;32m      9\u001b[0m \u001b[1;31m#nn.train(X_train, y_train, epoch=1000)\u001b[0m\u001b[1;33m\u001b[0m\u001b[1;33m\u001b[0m\u001b[0m\n",
      "\u001b[1;32m~\\jupyter notebooks\\mynn\\mynn.py\u001b[0m in \u001b[0;36mloss\u001b[1;34m(self, X, y_label)\u001b[0m\n\u001b[0;32m     25\u001b[0m         \u001b[0my\u001b[0m \u001b[1;33m=\u001b[0m \u001b[0mself\u001b[0m\u001b[1;33m.\u001b[0m\u001b[0mpredict_proba\u001b[0m\u001b[1;33m(\u001b[0m\u001b[0mX\u001b[0m\u001b[1;33m)\u001b[0m\u001b[1;33m\u001b[0m\u001b[0m\n\u001b[0;32m     26\u001b[0m         \u001b[0mloss\u001b[0m \u001b[1;33m=\u001b[0m \u001b[0mcross_entropy\u001b[0m\u001b[1;33m(\u001b[0m\u001b[0my\u001b[0m\u001b[1;33m,\u001b[0m \u001b[0my_label\u001b[0m\u001b[1;33m)\u001b[0m\u001b[1;33m\u001b[0m\u001b[0m\n\u001b[1;32m---> 27\u001b[1;33m         \u001b[1;32mreturn\u001b[0m \u001b[0mloss\u001b[0m\u001b[1;33m\u001b[0m\u001b[0m\n\u001b[0m\u001b[0;32m     28\u001b[0m \u001b[1;33m\u001b[0m\u001b[0m\n\u001b[0;32m     29\u001b[0m     \u001b[1;32mdef\u001b[0m \u001b[0maccuracy\u001b[0m\u001b[1;33m(\u001b[0m\u001b[0mself\u001b[0m\u001b[1;33m,\u001b[0m \u001b[0mX\u001b[0m\u001b[1;33m,\u001b[0m \u001b[0my_label\u001b[0m\u001b[1;33m)\u001b[0m\u001b[1;33m:\u001b[0m\u001b[1;33m\u001b[0m\u001b[0m\n",
      "\u001b[1;32m~\\jupyter notebooks\\mynn\\common.py\u001b[0m in \u001b[0;36mcross_entropy\u001b[1;34m(y, y_label)\u001b[0m\n\u001b[0;32m     20\u001b[0m \u001b[1;33m\u001b[0m\u001b[0m\n\u001b[0;32m     21\u001b[0m     \u001b[0mbatch_size\u001b[0m \u001b[1;33m=\u001b[0m \u001b[0my\u001b[0m\u001b[1;33m.\u001b[0m\u001b[0mshape\u001b[0m\u001b[1;33m[\u001b[0m\u001b[1;36m0\u001b[0m\u001b[1;33m]\u001b[0m\u001b[1;33m\u001b[0m\u001b[0m\n\u001b[1;32m---> 22\u001b[1;33m     \u001b[1;32mreturn\u001b[0m \u001b[1;33m-\u001b[0m\u001b[0mnp\u001b[0m\u001b[1;33m.\u001b[0m\u001b[0msum\u001b[0m\u001b[1;33m(\u001b[0m\u001b[0mnp\u001b[0m\u001b[1;33m.\u001b[0m\u001b[0mlog\u001b[0m\u001b[1;33m(\u001b[0m\u001b[0my\u001b[0m\u001b[1;33m[\u001b[0m\u001b[0mnp\u001b[0m\u001b[1;33m.\u001b[0m\u001b[0marange\u001b[0m\u001b[1;33m(\u001b[0m\u001b[0mbatch_size\u001b[0m\u001b[1;33m)\u001b[0m\u001b[1;33m,\u001b[0m \u001b[0my_label\u001b[0m\u001b[1;33m.\u001b[0m\u001b[0mastype\u001b[0m\u001b[1;33m(\u001b[0m\u001b[0mnp\u001b[0m\u001b[1;33m.\u001b[0m\u001b[0mint\u001b[0m\u001b[1;33m)\u001b[0m\u001b[1;33m]\u001b[0m\u001b[1;33m)\u001b[0m\u001b[1;33m)\u001b[0m \u001b[1;33m/\u001b[0m \u001b[0mbatch_size\u001b[0m\u001b[1;33m\u001b[0m\u001b[0m\n\u001b[0m\u001b[0;32m     23\u001b[0m \u001b[1;33m\u001b[0m\u001b[0m\n\u001b[0;32m     24\u001b[0m \u001b[1;32mdef\u001b[0m \u001b[0msoftmax\u001b[0m\u001b[1;33m(\u001b[0m\u001b[0mx\u001b[0m\u001b[1;33m)\u001b[0m\u001b[1;33m:\u001b[0m\u001b[1;33m\u001b[0m\u001b[0m\n",
      "\u001b[1;31mIndexError\u001b[0m: arrays used as indices must be of integer (or boolean) type"
     ]
    }
   ],
   "source": [
    "X_train, X_test, y_train, y_test = train_test_split(mnist['data'], mnist['target'], test_size=0.2, random_state=42)\n",
    "\n",
    "nn = myNN(input_dim=784, hidden_dim=10, output_dim=10)\n",
    "\n",
    "print(nn.param)\n",
    "print(nn.accuracy(X_test, y_test))\n",
    "print(nn.loss(X_test, y_test))\n",
    "\n",
    "#nn.train(X_train, y_train, epoch=1000)\n",
    "nn.train_minibatch(X_train, y_train, epoch=10, batch_size=1000)\n",
    "print(nn.param)\n",
    "print(nn.accuracy(X_test, y_test))\n",
    "print(nn.loss(X_test, y_test))"
   ]
  },
  {
   "cell_type": "code",
   "execution_count": null,
   "metadata": {},
   "outputs": [],
   "source": []
  }
 ],
 "metadata": {
  "kernelspec": {
   "display_name": "Python 3",
   "language": "python",
   "name": "python3"
  },
  "language_info": {
   "codemirror_mode": {
    "name": "ipython",
    "version": 3
   },
   "file_extension": ".py",
   "mimetype": "text/x-python",
   "name": "python",
   "nbconvert_exporter": "python",
   "pygments_lexer": "ipython3",
   "version": "3.6.3"
  }
 },
 "nbformat": 4,
 "nbformat_minor": 2
}
