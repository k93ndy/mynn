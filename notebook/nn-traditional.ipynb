{
 "cells": [
  {
   "cell_type": "code",
   "execution_count": null,
   "metadata": {},
   "outputs": [],
   "source": [
    "import numpy as np\n",
    "import tensorflow as tf\n",
    "import pandas as pd\n",
    "from sklearn.datasets import make_classification\n",
    "from sklearn.model_selection import StratifiedShuffleSplit\n",
    "from sklearn.preprocessing import StandardScaler, OneHotEncoder\n",
    "from matplotlib import pyplot as plt\n",
    "from datetime import datetime"
   ]
  },
  {
   "cell_type": "code",
   "execution_count": null,
   "metadata": {},
   "outputs": [],
   "source": [
    "def union_shuffled_copies(a, b):\n",
    "    assert len(a) == len(b)\n",
    "    p = np.random.permutation(len(a))\n",
    "    return a[p], b[p]\n",
    "\n",
    "def get_data(X, y_label, batch_size=1000):\n",
    "    X_shuffled, y_label_shuffled = union_shuffled_copies(X, y_label)\n",
    "    return X_shuffled[range(batch_size)], y_label_shuffled[range(batch_size)]"
   ]
  },
  {
   "cell_type": "code",
   "execution_count": null,
   "metadata": {},
   "outputs": [],
   "source": [
    "raw = make_classification(n_samples=100000, n_features=8, n_informative=5, n_redundant=0, n_repeated=0, n_classes=2, n_clusters_per_class=1)\n",
    "X = raw[0]\n",
    "y = raw[1]\n",
    "\n",
    "enc = OneHotEncoder()\n",
    "y = enc.fit_transform(y.reshape(-1, 1)).toarray()\n",
    "\n",
    "split = StratifiedShuffleSplit(n_splits=1, test_size=0.3)\n",
    "for train_index, test_index in split.split(X, y):\n",
    "    X_train = X[train_index]\n",
    "    X_test = X[test_index]\n",
    "    y_train = y[train_index]\n",
    "    y_test = y[test_index]\n",
    "\n",
    "print(X_train.shape, X_test.shape)\n",
    "print(y_train.shape, y_test.shape)"
   ]
  },
  {
   "cell_type": "code",
   "execution_count": null,
   "metadata": {},
   "outputs": [],
   "source": [
    "now = datetime.utcnow().strftime(\"%Y%m%d%H%M%S\")\n",
    "root_logdir = \"tf_logs\"\n",
    "logdir = \"{}/run-{}/\".format(root_logdir, now)"
   ]
  },
  {
   "cell_type": "code",
   "execution_count": null,
   "metadata": {},
   "outputs": [],
   "source": [
    "g = tf.Graph()\n",
    "LEARNING_RATE = 0.05\n",
    "EPOCHS = 100\n",
    "BATCH_SIZE = 10000\n",
    "\n",
    "with g.as_default():\n",
    "    #build compute graph\n",
    "    with tf.name_scope('inference') as scope:\n",
    "        x = tf.placeholder(tf.float32, shape=[None, 8])\n",
    "        y_true = tf.placeholder(tf.float32, shape=None)\n",
    "        w1 = tf.Variable(np.random.randn(8, 5), dtype=tf.float32, name='weights1')\n",
    "        b1 = tf.Variable(np.random.randn(1, 5), dtype=tf.float32, name='bias1')\n",
    "        w2 = tf.Variable(np.random.randn(5, 2), dtype=tf.float32, name='weights2')\n",
    "        b2 = tf.Variable(np.random.randn(1, 2), dtype=tf.float32, name='bias2')\n",
    "        \n",
    "#         layer1 = tf.sigmoid(tf.matmul(x, w1) + b1)\n",
    "        layer1 = tf.nn.relu(tf.matmul(x, w1) + b1)\n",
    "        layer2 = tf.matmul(layer1, w2) + b2\n",
    "        y_pred = tf.nn.softmax(layer2)\n",
    "        \n",
    "        y_pred_01 = tf.argmax(y_pred, axis=1)\n",
    "        y_true_01 = tf.argmax(y_true, axis=1)\n",
    "        \n",
    "    with tf.name_scope('loss') as scope:\n",
    "        crossentropy_loss = tf.reduce_mean(tf.nn.softmax_cross_entropy_with_logits(logits=layer2, labels=y_true))\n",
    "        confusion_matrix = tf.confusion_matrix(labels=y_true_01, predictions=y_pred_01)\n",
    "        \n",
    "    with tf.name_scope('train') as scope:\n",
    "        optimizer = tf.train.AdamOptimizer()\n",
    "        train = optimizer.minimize(crossentropy_loss)\n",
    "        saver = tf.train.Saver()\n",
    "    \n",
    "    with tf.name_scope('tensorboard') as scope:\n",
    "        crossentropy_summary = tf.summary.scalar('crossentropy_loss', crossentropy_loss)\n",
    "        file_writer = tf.summary.FileWriter(logdir, tf.get_default_graph())\n",
    "\n",
    "    #initialize viriables\n",
    "    init = tf.global_variables_initializer()\n",
    "    \n",
    "    #session\n",
    "    with tf.Session() as sess:\n",
    "        sess.run(init)\n",
    "        \n",
    "        for epoch in range(EPOCHS):\n",
    "            for step in range(int(X_train.shape[0]/BATCH_SIZE)):\n",
    "                X_per_step, y_per_step = get_data(X_train, y_train, batch_size=BATCH_SIZE)\n",
    "                sess.run(train, {x: X_per_step, y_true: y_per_step})\n",
    "            \n",
    "            loss, loss_summary = sess.run(\n",
    "                [crossentropy_loss, crossentropy_summary], \n",
    "                {x: X_test, y_true: y_test}\n",
    "            )\n",
    "            print(\"epoch {0}: {1}\".format(epoch+1, loss))\n",
    "            file_writer.add_summary(loss_summary, epoch)\n",
    "            \n",
    "        print(\"confusion matrix: {0}\".format(sess.run(confusion_matrix, {x: X_test, y_true: y_test})))\n",
    "        save_path = saver.save(sess, \"../edy_model.ckpt\")\n",
    "        file_writer.close()"
   ]
  },
  {
   "cell_type": "code",
   "execution_count": 8,
   "metadata": {},
   "outputs": [],
   "source": [
    "tf.reset_default_graph()"
   ]
  },
  {
   "cell_type": "code",
   "execution_count": null,
   "metadata": {},
   "outputs": [],
   "source": []
  },
  {
   "cell_type": "code",
   "execution_count": null,
   "metadata": {},
   "outputs": [],
   "source": []
  }
 ],
 "metadata": {
  "kernelspec": {
   "display_name": "Python 3",
   "language": "python",
   "name": "python3"
  },
  "language_info": {
   "codemirror_mode": {
    "name": "ipython",
    "version": 3
   },
   "file_extension": ".py",
   "mimetype": "text/x-python",
   "name": "python",
   "nbconvert_exporter": "python",
   "pygments_lexer": "ipython3",
   "version": "3.6.3"
  }
 },
 "nbformat": 4,
 "nbformat_minor": 2
}
