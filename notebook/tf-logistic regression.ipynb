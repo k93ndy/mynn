{
 "cells": [
  {
   "cell_type": "code",
   "execution_count": 1,
   "metadata": {},
   "outputs": [],
   "source": [
    "import numpy as np\n",
    "import tensorflow as tf\n",
    "from sklearn.datasets import make_classification\n",
    "from sklearn.model_selection import StratifiedShuffleSplit\n",
    "from matplotlib import pyplot as plt"
   ]
  },
  {
   "cell_type": "code",
   "execution_count": 5,
   "metadata": {},
   "outputs": [
    {
     "name": "stdout",
     "output_type": "stream",
     "text": [
      "(7000, 4) (3000, 4)\n",
      "(7000,) (3000,)\n"
     ]
    }
   ],
   "source": [
    "raw = make_classification(n_samples=10000, n_features=4, n_informative=3, n_redundant=0, n_repeated=0, n_classes=2, n_clusters_per_class=1)\n",
    "\n",
    "split = StratifiedShuffleSplit(n_splits=1, test_size=0.3)\n",
    "for train_index, test_index in split.split(raw[0], raw[1]):\n",
    "    X_train = raw[0][train_index]\n",
    "    X_test = raw[0][test_index]\n",
    "    y_train = raw[1][train_index]\n",
    "    y_test = raw[1][test_index]\n",
    "\n",
    "print(X_train.shape, X_test.shape)\n",
    "print(y_train.shape, y_test.shape)"
   ]
  },
  {
   "cell_type": "code",
   "execution_count": 12,
   "metadata": {},
   "outputs": [
    {
     "name": "stdout",
     "output_type": "stream",
     "text": [
      "(1, ?) <unknown>\n",
      "Step 0: [array([[ 1.26587582, -0.50660789, -0.16751924, -0.0728607 ]], dtype=float32), array([-0.13010605], dtype=float32)]\n",
      "Step 0: 1.0696771144866943\n",
      "Step 5: [array([[ 1.08154452, -0.46820489,  0.11647369, -0.29310039]], dtype=float32), array([-0.22261602], dtype=float32)]\n",
      "Step 5: 0.7226422429084778\n",
      "Step 10: [array([[ 0.93671   , -0.42891672,  0.33226353, -0.45209691]], dtype=float32), array([-0.29450861], dtype=float32)]\n",
      "Step 10: 0.525000810623169\n",
      "Step 15: [array([[ 0.82913619, -0.39290544,  0.4936721 , -0.56454343]], dtype=float32), array([-0.34850243], dtype=float32)]\n",
      "Step 15: 0.4173951745033264\n",
      "Step 20: [array([[ 0.74888629, -0.36133581,  0.6187169 , -0.6475603 ]], dtype=float32), array([-0.3904472], dtype=float32)]\n",
      "Step 20: 0.35495126247406006\n",
      "Step 25: [array([[ 0.68751734, -0.33382872,  0.71977687, -0.71222216]], dtype=float32), array([-0.42464486], dtype=float32)]\n",
      "Step 25: 0.3155483305454254\n",
      "Step 30: [array([[ 0.63940686, -0.30970639,  0.80433178, -0.76487178]], dtype=float32), array([-0.45371076], dtype=float32)]\n",
      "Step 30: 0.28884974122047424\n",
      "Step 35: [array([[ 0.60091418, -0.28835654,  0.87697107, -0.80921054]], dtype=float32), array([-0.47922492], dtype=float32)]\n",
      "Step 35: 0.2697223722934723\n",
      "Step 40: [array([[ 0.56962353, -0.2692897 ,  0.94064242, -0.84750974]], dtype=float32), array([-0.50217962], dtype=float32)]\n",
      "Step 40: 0.2554108500480652\n",
      "Step 45: [array([[ 0.5438748 , -0.25212497,  0.99732989, -0.88123673]], dtype=float32), array([-0.52322692], dtype=float32)]\n",
      "Step 45: 0.24432772397994995\n",
      "Step 50: [array([[ 0.522488  , -0.23656532,  1.0484252 , -0.91138399]], dtype=float32), array([-0.54281312], dtype=float32)]\n",
      "Step 50: 0.23550325632095337\n",
      "Step 55: [array([[ 0.50459963, -0.22237672,  1.09493911, -0.93865019]], dtype=float32), array([-0.56125456], dtype=float32)]\n",
      "Step 55: 0.22831524908542633\n",
      "Step 60: [array([[ 0.48956162, -0.20937218,  1.13762879, -0.96354389]], dtype=float32), array([-0.57878202], dtype=float32)]\n",
      "Step 60: 0.2223474532365799\n",
      "Step 65: [array([[ 0.47687677, -0.19740012,  1.17707539, -0.98644626]], dtype=float32), array([-0.59556764], dtype=float32)]\n",
      "Step 65: 0.2173124998807907\n",
      "Step 70: [array([[ 0.46615696, -0.18633613,  1.21373487, -1.00765014]], dtype=float32), array([-0.61174262], dtype=float32)]\n",
      "Step 70: 0.21300512552261353\n",
      "Step 75: [array([[ 0.45709437, -0.17607673,  1.24797213, -1.02738559]], dtype=float32), array([-0.62740827], dtype=float32)]\n",
      "Step 75: 0.2092760056257248\n",
      "Step 80: [array([[ 0.44944146, -0.16653495,  1.28008342, -1.04583681]], dtype=float32), array([-0.64264429], dtype=float32)]\n",
      "Step 80: 0.20601297914981842\n",
      "Step 85: [array([[ 0.44299689, -0.15763697,  1.31031311, -1.06315303]], dtype=float32), array([-0.65751374], dtype=float32)]\n",
      "Step 85: 0.2031315565109253\n",
      "Step 90: [array([[ 0.43759522, -0.14931953,  1.33886516, -1.07945836]], dtype=float32), array([-0.67206711], dtype=float32)]\n",
      "Step 90: 0.20056580007076263\n",
      "Step 95: [array([[ 0.43309918, -0.141528  ,  1.36591172, -1.09485602]], dtype=float32), array([-0.68634534], dtype=float32)]\n",
      "Step 95: 0.1982642412185669\n"
     ]
    }
   ],
   "source": [
    "g = tf.Graph()\n",
    "LEARNING_RATE = 0.1\n",
    "NUM_STEPS = 100\n",
    "\n",
    "with g.as_default():\n",
    "    #build compute graph\n",
    "    with tf.name_scope('inference') as scope:\n",
    "        x = tf.placeholder(tf.float32, shape=[None, 4])\n",
    "        y_true = tf.placeholder(tf.float32, shape=None)\n",
    "        w = tf.Variable(np.random.randn(1, 4), dtype=tf.float32, name='weights')\n",
    "        b = tf.Variable(np.random.randn(1), dtype=tf.float32, name='bias')\n",
    "        y_pred = tf.matmul(w, tf.transpose(x)) + b\n",
    "        print(y_pred.shape, y_true.shape)\n",
    "        \n",
    "    with tf.name_scope('loss') as scope:\n",
    "        crossentropy_loss = tf.reduce_mean(tf.nn.sigmoid_cross_entropy_with_logits(logits=y_pred, labels=y_true))\n",
    "        \n",
    "    with tf.name_scope('train') as scope:\n",
    "        optimizer = tf.train.GradientDescentOptimizer(LEARNING_RATE)\n",
    "        train = optimizer.minimize(crossentropy_loss)\n",
    "\n",
    "        \n",
    "    #initialize viriables\n",
    "    init = tf.global_variables_initializer()\n",
    "    \n",
    "    #session\n",
    "    with tf.Session() as sess:\n",
    "        sess.run(init)\n",
    "        \n",
    "        for step in range(NUM_STEPS):\n",
    "            sess.run(train, {x: X_train, y_true: y_train})\n",
    "            if (step % 5 == 0):\n",
    "                print(\"Step {0}: {1}\".format(step, sess.run([w,b])))\n",
    "                print(\"Step {0}: {1}\".format(step, sess.run(crossentropy_loss, {x: X_test, y_true: y_test})))\n"
   ]
  },
  {
   "cell_type": "code",
   "execution_count": null,
   "metadata": {},
   "outputs": [],
   "source": []
  },
  {
   "cell_type": "code",
   "execution_count": null,
   "metadata": {},
   "outputs": [],
   "source": []
  },
  {
   "cell_type": "code",
   "execution_count": null,
   "metadata": {},
   "outputs": [],
   "source": []
  }
 ],
 "metadata": {
  "kernelspec": {
   "display_name": "Python 3",
   "language": "python",
   "name": "python3"
  },
  "language_info": {
   "codemirror_mode": {
    "name": "ipython",
    "version": 3
   },
   "file_extension": ".py",
   "mimetype": "text/x-python",
   "name": "python",
   "nbconvert_exporter": "python",
   "pygments_lexer": "ipython3",
   "version": "3.6.3"
  }
 },
 "nbformat": 4,
 "nbformat_minor": 2
}
